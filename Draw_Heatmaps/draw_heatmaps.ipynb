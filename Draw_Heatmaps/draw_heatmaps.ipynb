{
 "cells": [
  {
   "cell_type": "code",
   "execution_count": 9,
   "metadata": {},
   "outputs": [],
   "source": [
    "import os\n",
    "from collections import Counter\n",
    "import random\n",
    "from itertools import product \n",
    "\n",
    "\n",
    "import pandas as pd\n",
    "\n",
    "from rdkit.Chem import AllChem\n",
    "from rdkit.Chem.rdmolfiles import MolFromSmiles\n",
    "from rdkit.Chem.AllChem import GetMorganFingerprintAsBitVect\n",
    "from rdkit.Chem.Draw.IPythonConsole import DrawMorganBit, DrawMorganBits, display_pil_image\n",
    "from rdkit.Chem.Draw import SimilarityMaps\n",
    "\n",
    "import shap\n",
    "import numpy as np"
   ]
  },
  {
   "cell_type": "code",
   "execution_count": 10,
   "metadata": {},
   "outputs": [],
   "source": [
    "#Define the Morgan Fingerprint **USE THE SAME AS THE MAIN PROGRAM**\n",
    "radius = 2\n",
    "n_bits = 4096"
   ]
  },
  {
   "cell_type": "code",
   "execution_count": 11,
   "metadata": {},
   "outputs": [],
   "source": [
    "def get_morgan_fp(dye_smiles_dict: dict, radius: int = 2, n_bits: int = 4096):\n",
    "    dye_morgan_fp_dict = {}\n",
    "    dye_morgan_fp_bit_dict = {}\n",
    "    dye_morgan_fp_lst_dict = {}\n",
    "\n",
    "    fp_gen = AllChem.GetMorganGenerator(radius=radius, fpSize=n_bits)\n",
    "    ao = AllChem.AdditionalOutput()\n",
    "    ao.CollectBitInfoMap()\n",
    "\n",
    "    for dye, smiles in dye_smiles_dict.items():\n",
    "        bit_info = {}\n",
    "        mol = MolFromSmiles(smiles)\n",
    "        fp = fp_gen.GetFingerprint(mol, additionalOutput=ao)\n",
    "\n",
    "        dye_morgan_fp_dict[dye] = fp\n",
    "        dye_morgan_fp_lst_dict[dye] = np.array(fp)\n",
    "        dye_morgan_fp_bit_dict[dye] = ao.GetBitInfoMap()\n",
    "\n",
    "    return dye_morgan_fp_dict, dye_morgan_fp_lst_dict, dye_morgan_fp_bit_dict"
   ]
  },
  {
   "cell_type": "code",
   "execution_count": 12,
   "metadata": {},
   "outputs": [],
   "source": [
    "#Create the Dye:SMILES dictionary\n",
    "dye_smile_dict = {}\n",
    "dye_smile_df = pd.read_csv('dye_smiles.csv', usecols=['Dye', 'SMILES'])\n",
    "\n",
    "for index, row in dye_smile_df.iterrows():\n",
    "    dye_smile_dict[row['Dye']] = row['SMILES']\n"
   ]
  },
  {
   "cell_type": "code",
   "execution_count": 13,
   "metadata": {},
   "outputs": [],
   "source": [
    "def average_shap_values(sorted_shap_values_df, dye_morgan_fp_lst_dict):\n",
    "    average_shap_values_df = pd.DataFrame()\n",
    "    \n",
    "    #Average the sorted shap values \n",
    "    for dye_name in dye_morgan_fp_lst_dict.keys():\n",
    "        \n",
    "        #Get all shap values for a specific dye\n",
    "        dye_specific_shap_values = sorted_shap_values_df[sorted_shap_values_df[\"Dye\"] == dye_name]\n",
    "\n",
    "        dye_specific_shap_values_avg = dye_specific_shap_values.mean(numeric_only=True)\n",
    "      \n",
    "        average_shap_values_df[dye_name] = dye_specific_shap_values_avg\n",
    "\n",
    "    average_shap_values_df = average_shap_values_df.T\n",
    "    return average_shap_values_df\n"
   ]
  },
  {
   "cell_type": "code",
   "execution_count": 14,
   "metadata": {},
   "outputs": [],
   "source": [
    "def get_shap_list(average_shap_values_df, dye_morgan_fp_dict, dye_morgan_fp_bit_dict, dye_name, dye_smile_dict):\n",
    "    #Get the # of atoms present in the dye\n",
    "    mol = MolFromSmiles(dye_smile_dict[dye_name])\n",
    "    num_atoms = mol.GetNumAtoms()\n",
    "    shap_lst = np.zeros(num_atoms)\n",
    "    \n",
    "\n",
    "    #Go through the keys of the bit dict which shows non zero bits in the fingerprint\n",
    "    for i in dye_morgan_fp_bit_dict[dye_name].keys():\n",
    "         #Go through the elements of the bit dict\n",
    "        for j in range(len(dye_morgan_fp_bit_dict[dye_name][i])):\n",
    "\n",
    "          #Small script if you want to see the bit assignments, will generate a lot of files, can be done for a single dye or all\n",
    "          # if dye_name == \"MB\":\n",
    "          #   bit_pic_file = DrawMorganBit(mol, i, dye_morgan_fp_bit_dict[dye_name], useSVG=False)\n",
    "          #   bit_pic_file.save(f\"{dye_name}_bit_{i}_atom_num{dye_morgan_fp_bit_dict[dye_name][i][j][0]}.png\")\n",
    "          \n",
    "          #ID which atom the bit corresponds to and add the average shap value\n",
    "          if str(i) in average_shap_values_df.columns:\n",
    "            shap_lst[dye_morgan_fp_bit_dict[dye_name][i][j][0]] += average_shap_values_df.at[dye_name, str(i)] \n",
    "\n",
    "    \n",
    "    return shap_lst"
   ]
  },
  {
   "cell_type": "code",
   "execution_count": 15,
   "metadata": {},
   "outputs": [],
   "source": [
    "def draw_dye_heatmaps(dye_name, shap_lst, model, matrix, dye_smile_dict):\n",
    "    #Get the molecule and draw the heatmap\n",
    "    \n",
    "    mol = MolFromSmiles(dye_smile_dict[dye_name])\n",
    "    #Use a similarity map to add the weighted SHAP values to the proper atoms\n",
    "    fig = SimilarityMaps.GetSimilarityMapFromWeights(mol, shap_lst)\n",
    "\n",
    "\n",
    "    #Save the figure in an appropriate folder\n",
    "    dye_folder = f\"{dye_name}_heatmaps\"\n",
    "    os.mkdir(dye_folder) if not os.path.exists(dye_folder) else None\n",
    "    fig.savefig(f\"{dye_folder}/{dye_name}_{model}_{matrix}_heatmap.png\", bbox_inches = 'tight', transparent=True)"
   ]
  },
  {
   "cell_type": "code",
   "execution_count": null,
   "metadata": {},
   "outputs": [],
   "source": [
    "matrix_lst = [\"RO\", \"EtOH\", \"CHCl3\"]\n",
    "model_lst = [\"LR\", \"RF\", \"NN\"]\n",
    "\n",
    "print(\"Did you properly set the model and matrix list?   What about the Fingerprinting radius and n_bits?\")\n",
    "\n",
    "for model in model_lst:\n",
    "    for matrix in matrix_lst:\n",
    "        #Load the proper shap value csv\n",
    "        shap_values_df = pd.read_csv(f\"shap_value_raw_all_{model}_{matrix}.csv\")\n",
    "        \n",
    "        #Create a morgan fingerprint bit which will be used to draw the heatmaps later\n",
    "        dye_morgan_fp_dict, dye_morgan_fp_lst_dict, dye_morgan_fp_bit_dict = get_morgan_fp(dye_smile_dict, radius, n_bits)\n",
    "        \n",
    "\n",
    "        #Sort the dataframe by dye\n",
    "        sorted_shap_values_df = shap_values_df.sort_values('Dye')\n",
    "        \n",
    "        #Average the shap values for each dye\n",
    "        average_shap_values_df = average_shap_values(sorted_shap_values_df, dye_morgan_fp_lst_dict)\n",
    "        \n",
    "        #Finalize and draw on a per dye basis\n",
    "        \n",
    "        \n",
    "        for dye_name in dye_smile_dict.keys():\n",
    "            \n",
    "            shap_list = get_shap_list(average_shap_values_df, dye_morgan_fp_dict, dye_morgan_fp_bit_dict, dye_name, dye_smile_dict)\n",
    "\n",
    "            #Draw the Heatmap\n",
    "            fig = draw_dye_heatmaps(dye_name, shap_list, model, matrix, dye_smile_dict)\n",
    "\n"
   ]
  }
 ],
 "metadata": {
  "kernelspec": {
   "display_name": ".venv",
   "language": "python",
   "name": "python3"
  },
  "language_info": {
   "codemirror_mode": {
    "name": "ipython",
    "version": 3
   },
   "file_extension": ".py",
   "mimetype": "text/x-python",
   "name": "python",
   "nbconvert_exporter": "python",
   "pygments_lexer": "ipython3",
   "version": "3.9.18"
  }
 },
 "nbformat": 4,
 "nbformat_minor": 2
}
